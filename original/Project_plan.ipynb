{
 "cells": [
  {
   "cell_type": "markdown",
   "id": "97c8e12b",
   "metadata": {},
   "source": [
    "# Project Plan"
   ]
  },
  {
   "cell_type": "markdown",
   "id": "c74e9941",
   "metadata": {},
   "source": [
    "## Frame the Problem and Look at the Big Picture"
   ]
  },
  {
   "cell_type": "markdown",
   "id": "64d58491",
   "metadata": {},
   "source": [
    "### 1. Define the Objective of the problem\n",
    "\n",
    "- What is the background?\n",
    "\n",
    "League of Legends is the most popular game in the history of geekdom. It has a huge number of users and is popular across the world. Additionaly Riot Games (the developer) have put a lot of reasources into developing a dynamic proffessional esports scene with the 2021 world championship attracting a peak viewship of over 73million. As with many sports, fantasy leagues have proliferated. I hosted one such league for my friends at the begining of this year which lead me to wonder: \"could I ML this?\"\n",
    "\n",
    "- What are you trying to do/solve/show?\n",
    "\n",
    "I want to create an algorithm that can accuretly predict which player is the best pick for each position in a league. \n",
    "\n",
    "- Why are you trying to do this?\n",
    "\n",
    "Cause I like pwning n00bs so I can say ggez, confirming all LOL steriotypes. (And IDK, betting or something?)\n"
   ]
  },
  {
   "cell_type": "markdown",
   "id": "fa311c24",
   "metadata": {},
   "source": [
    "### 2. How will your solution be used?\n",
    "\n",
    "- Will you be telling a story with data?\n",
    "\n",
    "Somewhat - I will campare the algorithm to my league's results and explore how it would have done if it was in the league.\n",
    "\n",
    "- Will you have user interaction?\n",
    "\n",
    "No.\n",
    "\n",
    "- Will there be a demo?\n",
    "\n",
    "Not as such - I will show the algorithm working with the league."
   ]
  },
  {
   "cell_type": "markdown",
   "id": "1693e472",
   "metadata": {},
   "source": [
    "### 3. What are the current solutions/workarounds (if any)?\n",
    "\n",
    "- Has this problem existed before?\n",
    "\n",
    "In general fantasy leagues have existed for a long time, LoL fantasy specifically has existed for ~10 years.\n",
    "\n",
    "- Has it already been solved?\n",
    "\n",
    "An initial search didn't yeild any other examples of ML used in Lol fantasy.\n",
    "\n",
    "- Add resources to this section of simialr projects.\n",
    "\n",
    "I did find several examples for other fantasy leagues though.\n",
    "https://towardsdatascience.com/beating-the-fantasy-premier-league-game-with-python-and-data-science-cf62961281be\n",
    "https://github.com/alan-turing-institute/AIrsenal\n",
    "https://rstudio-pubs-static.s3.amazonaws.com/577042_d4492e2e511848fb97ef839be077e9b8.html\n",
    "\n",
    "- What inspiration can you gather from these solutions?\n",
    "\n",
    "Will take a closer look. Insights will be limited as fantasy leagues work differently - for example lolf has no concept of budget"
   ]
  },
  {
   "cell_type": "markdown",
   "id": "f3c0b0c9",
   "metadata": {},
   "source": [
    "### 4. How should you frame this problem?\n",
    "\n",
    "- Supervised?\n",
    " \n",
    "yarp.\n",
    "\n",
    "- Unsupervised?\n",
    "\n",
    "narp.\n",
    "\n",
    "- Data storytelling?\n",
    "\n",
    "narp."
   ]
  },
  {
   "cell_type": "markdown",
   "id": "9e895314",
   "metadata": {},
   "source": [
    "### 5. How should performance be measured?\n",
    "\n",
    "- Will you use metrics?\n",
    "\n",
    "yessssss. There are three ways I can think of to evaluate the model. It's raw ability to estimate scores (which can be measured with standard metrics), It's ability to maximise the points it gets with it's picks and it's performance compared to humans.\n",
    "\n",
    "- Are there existing benchmarks?\n",
    "\n",
    "I will use our league as a benchmark.\n",
    "\n",
    "- What does success look like?\n",
    "\n",
    "I think my key evaluation will be the points the algorithms picks generate compared to the max that could have been scored with the avaliable picks. I will compare this to the first picks for each position in the example league to compare the models performance with humans. Success will be the model getting a similar score, great success will be outperforming us."
   ]
  },
  {
   "cell_type": "markdown",
   "id": "0be69420",
   "metadata": {},
   "source": [
    "### 6. Is the performance measure aligned with the objective?\n",
    "\n",
    "- Why did you choose these metrics/success criteria?\n",
    "\n",
    "Using the model to make picks then comparing the combined score to the max possible score is exactly the evaluation metric the objective implies; however it is difficult to do in the model development phase. As such I will use the models ability to reliable predict individual scores as a stand in during development."
   ]
  },
  {
   "cell_type": "markdown",
   "id": "93b5bc6b",
   "metadata": {},
   "source": [
    "### 7. What would the minimum performance needed to reach the objective?\n",
    "\n",
    "- What's the most basic version of your project look like?\n",
    "\n",
    "The most basic version is training a regressor on one year's worth of data and using it to make predictions on that year.\n",
    "\n",
    "- Is there a minimum metric score you want to reach?\n",
    "\n",
    "I will be satisfied if the model can beat the score of my example leagues 3rd picks.\n",
    "\n",
    "- Is there a definitive question that needs answering?\n",
    "\n",
    "narp."
   ]
  },
  {
   "cell_type": "markdown",
   "id": "2545c2b3",
   "metadata": {},
   "source": [
    "### 8. Is human expertise avaliable?\n",
    "\n",
    "- Do you have domain expertise?\n",
    "\n",
    "yarp.\n",
    "\n",
    "- Do you know anyone who does?\n",
    "\n",
    "yarp."
   ]
  },
  {
   "cell_type": "markdown",
   "id": "d4e3deec",
   "metadata": {},
   "source": [
    "### 9. What are the rough steps to approach this project?\n",
    "\n",
    "- List out basic components you will need to gather or build\n",
    "\n",
    "I will need:\n",
    "Data on LoL pro games\n",
    "An dataset with pro lifetime stats for each game (lifetime stats up to that point)\n",
    "A data set with the tournement I will use for the final evaluation\n",
    "A regression model fit upon my engineered data.\n",
    "An evaluation function for the development phase.\n",
    "A final evaluation function"
   ]
  },
  {
   "cell_type": "markdown",
   "id": "09963312",
   "metadata": {},
   "source": [
    "### 10. List the assumptions you have made so far\n",
    "\n",
    "- Ensure assumptions are verified where possible\n",
    "\n",
    "1. players performance is predictable, i.e. it is not random (base assumption)\n",
    "2. players performance can be predicted based on their past performance (base assumption)\n",
    "3. performance on one season/patch is relevent for other seasons/patches (to confirm)\n",
    "4. performance is not affected by which league a player is in (to confirm)\n",
    "5. position has an affect on score (to confirm)\n",
    "6. side (red or blue) has an affect on score (to confirm)"
   ]
  },
  {
   "cell_type": "code",
   "execution_count": null,
   "id": "848df0ce",
   "metadata": {},
   "outputs": [],
   "source": []
  }
 ],
 "metadata": {
  "kernelspec": {
   "display_name": "Python 3 (ipykernel)",
   "language": "python",
   "name": "python3"
  },
  "language_info": {
   "codemirror_mode": {
    "name": "ipython",
    "version": 3
   },
   "file_extension": ".py",
   "mimetype": "text/x-python",
   "name": "python",
   "nbconvert_exporter": "python",
   "pygments_lexer": "ipython3",
   "version": "3.9.7"
  }
 },
 "nbformat": 4,
 "nbformat_minor": 5
}
